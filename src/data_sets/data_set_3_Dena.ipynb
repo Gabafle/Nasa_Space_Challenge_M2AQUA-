{
 "cells": [
  {
   "cell_type": "code",
   "execution_count": 4,
   "id": "9e746079",
   "metadata": {},
   "outputs": [
    {
     "name": "stderr",
     "output_type": "stream",
     "text": [
      "Matplotlib is building the font cache; this may take a moment.\n",
      "Fontconfig warning: ignoring C.UTF-8: not a valid language tag\n"
     ]
    }
   ],
   "source": [
    "import pandas as pd \n",
    "import numpy as np\n",
    "import seaborn as sns\n",
    "import matplotlib.pyplot as plt"
   ]
  },
  {
   "cell_type": "code",
   "execution_count": 5,
   "id": "449e18ec",
   "metadata": {},
   "outputs": [],
   "source": [
    "\n",
    "df = pd.read_csv(\"./data_set_3.csv\", sep=\",\", engine=\"python\", on_bad_lines=\"skip\")\n"
   ]
  },
  {
   "cell_type": "code",
   "execution_count": 8,
   "id": "e9af1b7b",
   "metadata": {},
   "outputs": [
    {
     "data": {
      "text/html": [
       "<div>\n",
       "<style scoped>\n",
       "    .dataframe tbody tr th:only-of-type {\n",
       "        vertical-align: middle;\n",
       "    }\n",
       "\n",
       "    .dataframe tbody tr th {\n",
       "        vertical-align: top;\n",
       "    }\n",
       "\n",
       "    .dataframe thead th {\n",
       "        text-align: right;\n",
       "    }\n",
       "</style>\n",
       "<table border=\"1\" class=\"dataframe\">\n",
       "  <thead>\n",
       "    <tr style=\"text-align: right;\">\n",
       "      <th></th>\n",
       "      <th>rowid</th>\n",
       "      <th>pl_name</th>\n",
       "      <th>hostname</th>\n",
       "      <th>pl_letter</th>\n",
       "      <th>k2_name</th>\n",
       "      <th>epic_hostname</th>\n",
       "      <th>epic_candname</th>\n",
       "      <th>hd_name</th>\n",
       "      <th>hip_name</th>\n",
       "      <th>tic_id</th>\n",
       "      <th>...</th>\n",
       "      <th>releasedate</th>\n",
       "      <th>pl_nnotes</th>\n",
       "      <th>k2_campaigns</th>\n",
       "      <th>k2_campaigns_num</th>\n",
       "      <th>st_nphot</th>\n",
       "      <th>st_nrvc</th>\n",
       "      <th>st_nspec</th>\n",
       "      <th>pl_nespec</th>\n",
       "      <th>pl_ntranspec</th>\n",
       "      <th>pl_ndispec</th>\n",
       "    </tr>\n",
       "  </thead>\n",
       "  <tbody>\n",
       "    <tr>\n",
       "      <th>0</th>\n",
       "      <td>1</td>\n",
       "      <td>BD+20 594 b</td>\n",
       "      <td>BD+20 594</td>\n",
       "      <td>b</td>\n",
       "      <td>K2-56 b</td>\n",
       "      <td>EPIC 210848071</td>\n",
       "      <td>EPIC 210848071.01</td>\n",
       "      <td>NaN</td>\n",
       "      <td>NaN</td>\n",
       "      <td>TIC 26123781</td>\n",
       "      <td>...</td>\n",
       "      <td>2018-02-15</td>\n",
       "      <td>1</td>\n",
       "      <td>4</td>\n",
       "      <td>1.0</td>\n",
       "      <td>0</td>\n",
       "      <td>0</td>\n",
       "      <td>0</td>\n",
       "      <td>0</td>\n",
       "      <td>0</td>\n",
       "      <td>0</td>\n",
       "    </tr>\n",
       "    <tr>\n",
       "      <th>1</th>\n",
       "      <td>2</td>\n",
       "      <td>BD+20 594 b</td>\n",
       "      <td>BD+20 594</td>\n",
       "      <td>b</td>\n",
       "      <td>K2-56 b</td>\n",
       "      <td>EPIC 210848071</td>\n",
       "      <td>EPIC 210848071.01</td>\n",
       "      <td>NaN</td>\n",
       "      <td>NaN</td>\n",
       "      <td>TIC 26123781</td>\n",
       "      <td>...</td>\n",
       "      <td>2016-07-28</td>\n",
       "      <td>1</td>\n",
       "      <td>4</td>\n",
       "      <td>1.0</td>\n",
       "      <td>0</td>\n",
       "      <td>0</td>\n",
       "      <td>0</td>\n",
       "      <td>0</td>\n",
       "      <td>0</td>\n",
       "      <td>0</td>\n",
       "    </tr>\n",
       "    <tr>\n",
       "      <th>2</th>\n",
       "      <td>3</td>\n",
       "      <td>BD+20 594 b</td>\n",
       "      <td>BD+20 594</td>\n",
       "      <td>b</td>\n",
       "      <td>K2-56 b</td>\n",
       "      <td>EPIC 210848071</td>\n",
       "      <td>EPIC 210848071.01</td>\n",
       "      <td>NaN</td>\n",
       "      <td>NaN</td>\n",
       "      <td>TIC 26123781</td>\n",
       "      <td>...</td>\n",
       "      <td>2018-04-26</td>\n",
       "      <td>1</td>\n",
       "      <td>4</td>\n",
       "      <td>1.0</td>\n",
       "      <td>0</td>\n",
       "      <td>0</td>\n",
       "      <td>0</td>\n",
       "      <td>0</td>\n",
       "      <td>0</td>\n",
       "      <td>0</td>\n",
       "    </tr>\n",
       "    <tr>\n",
       "      <th>3</th>\n",
       "      <td>4</td>\n",
       "      <td>EPIC 201111557.01</td>\n",
       "      <td>EPIC 201111557</td>\n",
       "      <td>NaN</td>\n",
       "      <td>NaN</td>\n",
       "      <td>EPIC 201111557</td>\n",
       "      <td>EPIC 201111557.01</td>\n",
       "      <td>NaN</td>\n",
       "      <td>NaN</td>\n",
       "      <td>TIC 176942156</td>\n",
       "      <td>...</td>\n",
       "      <td>2018-08-02</td>\n",
       "      <td>0</td>\n",
       "      <td>10</td>\n",
       "      <td>1.0</td>\n",
       "      <td>0</td>\n",
       "      <td>0</td>\n",
       "      <td>0</td>\n",
       "      <td>0</td>\n",
       "      <td>0</td>\n",
       "      <td>0</td>\n",
       "    </tr>\n",
       "    <tr>\n",
       "      <th>4</th>\n",
       "      <td>5</td>\n",
       "      <td>EPIC 201111557.01</td>\n",
       "      <td>EPIC 201111557</td>\n",
       "      <td>NaN</td>\n",
       "      <td>NaN</td>\n",
       "      <td>EPIC 201111557</td>\n",
       "      <td>EPIC 201111557.01</td>\n",
       "      <td>NaN</td>\n",
       "      <td>NaN</td>\n",
       "      <td>TIC 176942156</td>\n",
       "      <td>...</td>\n",
       "      <td>2018-02-15</td>\n",
       "      <td>0</td>\n",
       "      <td>10</td>\n",
       "      <td>1.0</td>\n",
       "      <td>0</td>\n",
       "      <td>0</td>\n",
       "      <td>0</td>\n",
       "      <td>0</td>\n",
       "      <td>0</td>\n",
       "      <td>0</td>\n",
       "    </tr>\n",
       "    <tr>\n",
       "      <th>...</th>\n",
       "      <td>...</td>\n",
       "      <td>...</td>\n",
       "      <td>...</td>\n",
       "      <td>...</td>\n",
       "      <td>...</td>\n",
       "      <td>...</td>\n",
       "      <td>...</td>\n",
       "      <td>...</td>\n",
       "      <td>...</td>\n",
       "      <td>...</td>\n",
       "      <td>...</td>\n",
       "      <td>...</td>\n",
       "      <td>...</td>\n",
       "      <td>...</td>\n",
       "      <td>...</td>\n",
       "      <td>...</td>\n",
       "      <td>...</td>\n",
       "      <td>...</td>\n",
       "      <td>...</td>\n",
       "      <td>...</td>\n",
       "      <td>...</td>\n",
       "    </tr>\n",
       "    <tr>\n",
       "      <th>3999</th>\n",
       "      <td>4000</td>\n",
       "      <td>WASP-85 A b</td>\n",
       "      <td>WASP-85 A</td>\n",
       "      <td>b</td>\n",
       "      <td>K2-94 b</td>\n",
       "      <td>EPIC 201862715</td>\n",
       "      <td>EPIC 201862715.01</td>\n",
       "      <td>NaN</td>\n",
       "      <td>NaN</td>\n",
       "      <td>TIC 380619414</td>\n",
       "      <td>...</td>\n",
       "      <td>2019-09-05</td>\n",
       "      <td>1</td>\n",
       "      <td>1</td>\n",
       "      <td>1.0</td>\n",
       "      <td>0</td>\n",
       "      <td>0</td>\n",
       "      <td>0</td>\n",
       "      <td>0</td>\n",
       "      <td>0</td>\n",
       "      <td>0</td>\n",
       "    </tr>\n",
       "    <tr>\n",
       "      <th>4000</th>\n",
       "      <td>4001</td>\n",
       "      <td>Wolf 503 b</td>\n",
       "      <td>Wolf 503</td>\n",
       "      <td>b</td>\n",
       "      <td>K2-262 b</td>\n",
       "      <td>EPIC 212779563</td>\n",
       "      <td>NaN</td>\n",
       "      <td>NaN</td>\n",
       "      <td>HIP 67285</td>\n",
       "      <td>TIC 187278212</td>\n",
       "      <td>...</td>\n",
       "      <td>2022-05-23</td>\n",
       "      <td>0</td>\n",
       "      <td>17</td>\n",
       "      <td>1.0</td>\n",
       "      <td>1</td>\n",
       "      <td>0</td>\n",
       "      <td>0</td>\n",
       "      <td>0</td>\n",
       "      <td>0</td>\n",
       "      <td>0</td>\n",
       "    </tr>\n",
       "    <tr>\n",
       "      <th>4001</th>\n",
       "      <td>4002</td>\n",
       "      <td>Wolf 503 b</td>\n",
       "      <td>Wolf 503</td>\n",
       "      <td>b</td>\n",
       "      <td>K2-262 b</td>\n",
       "      <td>EPIC 212779563</td>\n",
       "      <td>NaN</td>\n",
       "      <td>NaN</td>\n",
       "      <td>HIP 67285</td>\n",
       "      <td>TIC 187278212</td>\n",
       "      <td>...</td>\n",
       "      <td>2018-09-06</td>\n",
       "      <td>0</td>\n",
       "      <td>17</td>\n",
       "      <td>1.0</td>\n",
       "      <td>1</td>\n",
       "      <td>0</td>\n",
       "      <td>0</td>\n",
       "      <td>0</td>\n",
       "      <td>0</td>\n",
       "      <td>0</td>\n",
       "    </tr>\n",
       "    <tr>\n",
       "      <th>4002</th>\n",
       "      <td>4003</td>\n",
       "      <td>Wolf 503 b</td>\n",
       "      <td>Wolf 503</td>\n",
       "      <td>b</td>\n",
       "      <td>K2-262 b</td>\n",
       "      <td>EPIC 212779563</td>\n",
       "      <td>NaN</td>\n",
       "      <td>NaN</td>\n",
       "      <td>HIP 67285</td>\n",
       "      <td>TIC 187278212</td>\n",
       "      <td>...</td>\n",
       "      <td>2023-04-17</td>\n",
       "      <td>0</td>\n",
       "      <td>17</td>\n",
       "      <td>1.0</td>\n",
       "      <td>1</td>\n",
       "      <td>0</td>\n",
       "      <td>0</td>\n",
       "      <td>0</td>\n",
       "      <td>0</td>\n",
       "      <td>0</td>\n",
       "    </tr>\n",
       "    <tr>\n",
       "      <th>4003</th>\n",
       "      <td>4004</td>\n",
       "      <td>Wolf 503 b</td>\n",
       "      <td>Wolf 503</td>\n",
       "      <td>b</td>\n",
       "      <td>K2-262 b</td>\n",
       "      <td>EPIC 212779563</td>\n",
       "      <td>NaN</td>\n",
       "      <td>NaN</td>\n",
       "      <td>HIP 67285</td>\n",
       "      <td>TIC 187278212</td>\n",
       "      <td>...</td>\n",
       "      <td>2025-08-28</td>\n",
       "      <td>0</td>\n",
       "      <td>17</td>\n",
       "      <td>1.0</td>\n",
       "      <td>1</td>\n",
       "      <td>0</td>\n",
       "      <td>0</td>\n",
       "      <td>0</td>\n",
       "      <td>0</td>\n",
       "      <td>0</td>\n",
       "    </tr>\n",
       "  </tbody>\n",
       "</table>\n",
       "<p>4004 rows × 295 columns</p>\n",
       "</div>"
      ],
      "text/plain": [
       "      rowid            pl_name        hostname pl_letter   k2_name  \\\n",
       "0         1        BD+20 594 b       BD+20 594         b   K2-56 b   \n",
       "1         2        BD+20 594 b       BD+20 594         b   K2-56 b   \n",
       "2         3        BD+20 594 b       BD+20 594         b   K2-56 b   \n",
       "3         4  EPIC 201111557.01  EPIC 201111557       NaN       NaN   \n",
       "4         5  EPIC 201111557.01  EPIC 201111557       NaN       NaN   \n",
       "...     ...                ...             ...       ...       ...   \n",
       "3999   4000        WASP-85 A b       WASP-85 A         b   K2-94 b   \n",
       "4000   4001         Wolf 503 b        Wolf 503         b  K2-262 b   \n",
       "4001   4002         Wolf 503 b        Wolf 503         b  K2-262 b   \n",
       "4002   4003         Wolf 503 b        Wolf 503         b  K2-262 b   \n",
       "4003   4004         Wolf 503 b        Wolf 503         b  K2-262 b   \n",
       "\n",
       "       epic_hostname      epic_candname hd_name   hip_name         tic_id  \\\n",
       "0     EPIC 210848071  EPIC 210848071.01     NaN        NaN   TIC 26123781   \n",
       "1     EPIC 210848071  EPIC 210848071.01     NaN        NaN   TIC 26123781   \n",
       "2     EPIC 210848071  EPIC 210848071.01     NaN        NaN   TIC 26123781   \n",
       "3     EPIC 201111557  EPIC 201111557.01     NaN        NaN  TIC 176942156   \n",
       "4     EPIC 201111557  EPIC 201111557.01     NaN        NaN  TIC 176942156   \n",
       "...              ...                ...     ...        ...            ...   \n",
       "3999  EPIC 201862715  EPIC 201862715.01     NaN        NaN  TIC 380619414   \n",
       "4000  EPIC 212779563                NaN     NaN  HIP 67285  TIC 187278212   \n",
       "4001  EPIC 212779563                NaN     NaN  HIP 67285  TIC 187278212   \n",
       "4002  EPIC 212779563                NaN     NaN  HIP 67285  TIC 187278212   \n",
       "4003  EPIC 212779563                NaN     NaN  HIP 67285  TIC 187278212   \n",
       "\n",
       "      ... releasedate  pl_nnotes k2_campaigns k2_campaigns_num  st_nphot  \\\n",
       "0     ...  2018-02-15          1            4              1.0         0   \n",
       "1     ...  2016-07-28          1            4              1.0         0   \n",
       "2     ...  2018-04-26          1            4              1.0         0   \n",
       "3     ...  2018-08-02          0           10              1.0         0   \n",
       "4     ...  2018-02-15          0           10              1.0         0   \n",
       "...   ...         ...        ...          ...              ...       ...   \n",
       "3999  ...  2019-09-05          1            1              1.0         0   \n",
       "4000  ...  2022-05-23          0           17              1.0         1   \n",
       "4001  ...  2018-09-06          0           17              1.0         1   \n",
       "4002  ...  2023-04-17          0           17              1.0         1   \n",
       "4003  ...  2025-08-28          0           17              1.0         1   \n",
       "\n",
       "      st_nrvc  st_nspec  pl_nespec pl_ntranspec  pl_ndispec  \n",
       "0           0         0          0            0           0  \n",
       "1           0         0          0            0           0  \n",
       "2           0         0          0            0           0  \n",
       "3           0         0          0            0           0  \n",
       "4           0         0          0            0           0  \n",
       "...       ...       ...        ...          ...         ...  \n",
       "3999        0         0          0            0           0  \n",
       "4000        0         0          0            0           0  \n",
       "4001        0         0          0            0           0  \n",
       "4002        0         0          0            0           0  \n",
       "4003        0         0          0            0           0  \n",
       "\n",
       "[4004 rows x 295 columns]"
      ]
     },
     "execution_count": 8,
     "metadata": {},
     "output_type": "execute_result"
    }
   ],
   "source": [
    "df"
   ]
  },
  {
   "cell_type": "code",
   "execution_count": 18,
   "id": "f71560d1",
   "metadata": {},
   "outputs": [
    {
     "name": "stderr",
     "output_type": "stream",
     "text": [
      "/Users/denakazerani/Documents/Nasa_Space_Challenge_M2Astra/.venv/lib/python3.10/site-packages/IPython/core/pylabtools.py:170: UserWarning: Glyph 129680 (\\N{RINGED PLANET}) missing from font(s) DejaVu Sans.\n",
      "  fig.canvas.print_figure(bytes_io, **kw)\n"
     ]
    },
    {
     "data": {
      "image/png": "[encoded data removed]",
      "text/plain": [
       "<Figure size 1400x600 with 1 Axes>"
      ]
     },
     "metadata": {},
     "output_type": "display_data"
    }
   ],
   "source": [
    "plt.figure(figsize=(14, 6))\n",
    "sns.heatmap(df.isna(), \n",
    "            cmap=\"magma\",          # Palette de couleurs\n",
    "            cbar=False,            # Pas de barre de couleur inutile\n",
    "            yticklabels=False)     # Masquer les indices de ligne\n",
    "plt.title(\"🪐 Carte des valeurs manquantes dans le dataset K2\", fontsize=14)\n",
    "plt.xlabel(\"Colonnes\")\n",
    "plt.ylabel(\"Observations (KOI)\")\n",
    "plt.show()\n"
   ]
  },
  {
   "cell_type": "code",
   "execution_count": 16,
   "id": "065888a8",
   "metadata": {},
   "outputs": [],
   "source": [
    "#Delete rows with discovery methos other than Transit\n",
    "df_transit = df[df[\"discoverymethod\"]== \"Transit\"]"
   ]
  },
  {
   "cell_type": "code",
   "execution_count": 26,
   "id": "63cd8a5c",
   "metadata": {},
   "outputs": [],
   "source": [
    "k2_filtered_columns = [\n",
    "    # Names\n",
    "    \"pl_name\",\"hostname\",\"pl_letter\",\"k2_name\",\"epic_hostname\",\"hd_name\",\"hip_name\",\n",
    "    \"tic_id\",\"gaia_id\",\"default_flag\",\"disposition\",\"disp_refname\",\n",
    "    # System Composition\n",
    "    \"sy_snum\",\"sy_pnum\",\"sy_mnum\",\"cb_flag\",\n",
    "    # Planet Discovery\n",
    "    \"discoverymethod\",\"disc_year\",\"disc_refname\",\"disc_pubdate\",\"disc_locale\",\n",
    "    \"disc_facility\",\"disc_telescope\",\"disc_instrument\",\n",
    "    # Detections\n",
    "    \"rv_flag\",\"pul_flag\",\"ptv_flag\",\"tran_flag\",\"ast_flag\",\"obm_flag\",\"micro_flag\",\n",
    "    \"etv_flag\",\"ima_flag\",\"dkin_flag\",\"soltype\",\"pl_controv_flag\",\n",
    "    # Planet Parameters\n",
    "    \"pl_refname\",\"pl_orbper\",\"pl_orbsmax\",\"pl_rade\",\"pl_radj\",\"pl_masse\",\"pl_massj\",\n",
    "    \"pl_msinie\",\"pl_msinij\",\"pl_cmasse\",\"pl_cmassj\",\"pl_bmasse\",\"pl_bmassj\",\n",
    "    \"pl_bmassprov\",\"pl_dens\",\"pl_orbeccen\",\"pl_insol\",\"pl_eqt\",\"pl_orbincl\",\n",
    "    \"pl_tranmid\",\"pl_tsystemref\",\"ttv_flag\",\"pl_imppar\",\"pl_trandep\",\"pl_trandur\",\n",
    "    \"pl_ratdor\",\"pl_ratror\",\"pl_occdep\",\"pl_orbtper\",\"pl_orblper\",\"pl_rvamp\",\n",
    "    \"pl_projobliq\",\"pl_trueobliq\",\n",
    "    # Stellar Data\n",
    "    \"st_refname\",\"st_spectype\",\"st_teff\",\"st_rad\",\"st_mass\",\"st_met\",\"st_metratio\",\n",
    "    \"st_lum\",\"st_logg\",\"st_age\",\"st_dens\",\"st_vsin\",\"st_rotp\",\"st_radv\",\n",
    "    # System Data\n",
    "    \"sy_refname\",\"sy_pm\",\"sy_pmra\",\"sy_pmdec\",\"sy_dist\",\"sy_plx\",\"pl_nnotes\",\n",
    "    \"k2_campaigns\",\"k2_campaigns_num\",\n",
    "    # Position (subset)\n",
    "    \"rastr\",\"decstr\",\"ra\",\"dec\",\"glat\",\"glon\",\"elat\",\"elon\",\n",
    "    # Photometry (subset)\n",
    "    \"sy_bmag\",\"sy_vmag\",\"sy_jmag\",\"sy_hmag\",\"sy_umag\",\"sy_gmag\",\"sy_rmag\",\n",
    "    \"sy_imag\",\"sy_zmag\",\"sy_w1mag\",\"sy_w2mag\",\"sy_w3mag\",\"sy_w4mag\",\"sy_gaiamag\",\n",
    "    \"sy_icmag\",\"sy_tmag\",\"sy_kepmag\",\n",
    "    # Dates (subset)\n",
    "    \"rowupdate\",\"pl_pubdate\",\"releasedate\",\n",
    "    # Additional Data\n",
    "    \"st_nphot\",\"st_nrvc\",\"st_nspec\",\"pl_nespec\",\"pl_ntranspec\",\n",
    "]\n",
    "df_transit_filtered =df_transit[k2_filtered_columns]"
   ]
  },
  {
   "cell_type": "code",
   "execution_count": 56,
   "id": "97d2e61b",
   "metadata": {},
   "outputs": [
    {
     "data": {
      "text/plain": [
       "(3979, 125)"
      ]
     },
     "execution_count": 56,
     "metadata": {},
     "output_type": "execute_result"
    }
   ],
   "source": [
    "df_transit_filtered.shape"
   ]
  },
  {
   "cell_type": "code",
   "execution_count": 28,
   "id": "42f4d39b",
   "metadata": {},
   "outputs": [
    {
     "name": "stderr",
     "output_type": "stream",
     "text": [
      "/Users/denakazerani/Documents/Nasa_Space_Challenge_M2Astra/.venv/lib/python3.10/site-packages/IPython/core/pylabtools.py:170: UserWarning: Glyph 129680 (\\N{RINGED PLANET}) missing from font(s) DejaVu Sans.\n",
      "  fig.canvas.print_figure(bytes_io, **kw)\n"
     ]
    },
    {
     "data": {
      "image/png": "[encoded data removed]",
      "text/plain": [
       "<Figure size 1400x600 with 1 Axes>"
      ]
     },
     "metadata": {},
     "output_type": "display_data"
    }
   ],
   "source": [
    "plt.figure(figsize=(14, 6))\n",
    "sns.heatmap(df_transit_filtered.isna(), \n",
    "            cmap=\"magma\",          # Palette de couleurs\n",
    "            cbar=False,            # Pas de barre de couleur inutile\n",
    "            yticklabels=False)     # Masquer les indices de ligne\n",
    "plt.title(\"🪐 Carte des valeurs manquantes dans le dataset K2\", fontsize=14)\n",
    "plt.xlabel(\"Colonnes\")\n",
    "plt.ylabel(\"Observations (KOI)\")\n",
    "plt.show()"
   ]
  },
  {
   "cell_type": "code",
   "execution_count": 31,
   "id": "7dd2034f",
   "metadata": {},
   "outputs": [
    {
     "name": "stdout",
     "output_type": "stream",
     "text": [
      "Index(['hd_name', 'hip_name', 'pl_orbsmax', 'pl_masse', 'pl_massj',\n",
      "       'pl_msinie', 'pl_msinij', 'pl_cmasse', 'pl_cmassj', 'pl_bmasse',\n",
      "       'pl_bmassj', 'pl_bmassprov', 'pl_dens', 'pl_orbeccen', 'pl_insol',\n",
      "       'pl_eqt', 'pl_orbincl', 'pl_imppar', 'pl_occdep', 'pl_orbtper',\n",
      "       'pl_orblper', 'pl_rvamp', 'pl_projobliq', 'pl_trueobliq', 'st_spectype',\n",
      "       'st_met', 'st_metratio', 'st_lum', 'st_age', 'st_dens', 'st_vsin',\n",
      "       'st_rotp', 'st_radv', 'sy_umag', 'sy_gmag', 'sy_rmag', 'sy_imag',\n",
      "       'sy_zmag', 'sy_icmag'],\n",
      "      dtype='object')\n"
     ]
    }
   ],
   "source": [
    "colonnes_manquantes = df_transit_filtered.columns[df_transit_filtered.isna().mean() > 0.50]\n",
    "print(colonnes_manquantes)"
   ]
  },
  {
   "cell_type": "code",
   "execution_count": 33,
   "id": "79b8eddc",
   "metadata": {},
   "outputs": [],
   "source": [
    "k2_transit_columns = [\n",
    "    \"pl_orbper\",     # période orbitale (jours)\n",
    "    \"pl_orbsmax\",    # demi-grand axe (AU) — géométrie orbitale\n",
    "    \"pl_rade\",       # rayon planétaire (rayons terrestres)\n",
    "    \"pl_radj\",        # rayon planétaire (rayons de Jupiter)\n",
    "    \"pl_masse\",      # masse planétaire (si estimée)\n",
    "    \"pl_massj\",       # masse planétaire (en masses de Jupiter)\n",
    "    \"pl_msinie\",     # masse × sin(i) (planétaire)\n",
    "    \"pl_msinij\",      # version en Jupiter\n",
    "    \"pl_dens\",       # densité planétaire\n",
    "    \"pl_orbeccen\",    # excentricité orbitale\n",
    "    \"pl_orbincl\",     # inclinaison orbitale\n",
    "    \"pl_tranmid\",    # moment central du transit (temps de conjonction)  \n",
    "    \"pl_imppar\",     # paramètre d’impact\n",
    "    \"pl_trandep\",    # profondeur du transit\n",
    "    \"pl_trandur\",    # durée du transit\n",
    "    \"pl_ratror\",     # ratio : rayon planète / rayon étoile\n",
    "    \"pl_ratdor\",     # ratio : a / R_star (semi-grand axe / rayon étoile)\n",
    "    \"pl_occdep\",     # profondeur d’occultation (si mesurée)\n",
    "    \"pl_orbtper\",     # argument du périastre (temps)\n",
    "    \"pl_orblper\",     # argument du périastre (angle)\n",
    "    \"pl_rvamp\",       # amplitude de variation radiale (m/s)\n",
    "    \"ttv_flag\"        # flag indiquant variation de temps de transit\n",
    "]\n",
    "bad_quality_transit_columns = [c for c in k2_transit_columns if c in colonnes_manquantes]"
   ]
  },
  {
   "cell_type": "code",
   "execution_count": 34,
   "id": "5904ba99",
   "metadata": {},
   "outputs": [
    {
     "name": "stdout",
     "output_type": "stream",
     "text": [
      "['pl_orbsmax', 'pl_masse', 'pl_massj', 'pl_msinie', 'pl_msinij', 'pl_dens', 'pl_orbeccen', 'pl_orbincl', 'pl_imppar', 'pl_occdep', 'pl_orbtper', 'pl_orblper', 'pl_rvamp']\n"
     ]
    }
   ],
   "source": [
    "print(bad_quality_transit_columns)"
   ]
  },
  {
   "cell_type": "code",
   "execution_count": 36,
   "id": "f740a336",
   "metadata": {},
   "outputs": [],
   "source": [
    "\n",
    "df_K2_share_columns_TESS = pd.read_csv(\"./k2pandc_filtered.csv\", sep=\",\", engine=\"python\", on_bad_lines=\"skip\")"
   ]
  },
  {
   "cell_type": "code",
   "execution_count": 55,
   "id": "49b71642",
   "metadata": {},
   "outputs": [
    {
     "data": {
      "text/plain": [
       "(3980, 31)"
      ]
     },
     "execution_count": 55,
     "metadata": {},
     "output_type": "execute_result"
    }
   ],
   "source": [
    "df_K2_share_columns_TESS.shape"
   ]
  },
  {
   "cell_type": "code",
   "execution_count": 54,
   "id": "0ee1ef18",
   "metadata": {},
   "outputs": [],
   "source": [
    "share_columns_TESS =df_K2_share_columns_TESS.columns.shape"
   ]
  },
  {
   "cell_type": "code",
   "execution_count": null,
   "id": "421bb652",
   "metadata": {},
   "outputs": [],
   "source": [
    "bad_quality_transit_columns_shared_with_TESS = [c for c in share_columns_TESS if c in bad_quality_transit_columns]"
   ]
  },
  {
   "cell_type": "code",
   "execution_count": 40,
   "id": "3d9998ed",
   "metadata": {},
   "outputs": [
    {
     "name": "stdout",
     "output_type": "stream",
     "text": [
      "[]\n"
     ]
    }
   ],
   "source": [
    "print(bad_quality_transit_columns_shared_with_TESS)"
   ]
  },
  {
   "cell_type": "code",
   "execution_count": 41,
   "id": "5b285c21",
   "metadata": {},
   "outputs": [],
   "source": [
    "df_transit_filtered_shared_columns_with_TESS=df_transit_filtered[[c for c in df_transit_filtered if c in share_columns_TESS]]"
   ]
  },
  {
   "cell_type": "code",
   "execution_count": 43,
   "id": "1b4d9f31",
   "metadata": {},
   "outputs": [
    {
     "data": {
      "text/html": [
       "<div>\n",
       "<style scoped>\n",
       "    .dataframe tbody tr th:only-of-type {\n",
       "        vertical-align: middle;\n",
       "    }\n",
       "\n",
       "    .dataframe tbody tr th {\n",
       "        vertical-align: top;\n",
       "    }\n",
       "\n",
       "    .dataframe thead th {\n",
       "        text-align: right;\n",
       "    }\n",
       "</style>\n",
       "<table border=\"1\" class=\"dataframe\">\n",
       "  <thead>\n",
       "    <tr style=\"text-align: right;\">\n",
       "      <th></th>\n",
       "      <th>pl_orbper</th>\n",
       "      <th>pl_rade</th>\n",
       "      <th>pl_tranmid</th>\n",
       "      <th>pl_trandep</th>\n",
       "      <th>st_teff</th>\n",
       "      <th>st_rad</th>\n",
       "      <th>st_logg</th>\n",
       "      <th>ra</th>\n",
       "      <th>dec</th>\n",
       "    </tr>\n",
       "  </thead>\n",
       "  <tbody>\n",
       "    <tr>\n",
       "      <th>0</th>\n",
       "      <td>41.688644</td>\n",
       "      <td>2.355454</td>\n",
       "      <td>2.457069e+06</td>\n",
       "      <td>NaN</td>\n",
       "      <td>5703.00</td>\n",
       "      <td>0.956122</td>\n",
       "      <td>4.38000</td>\n",
       "      <td>53.651123</td>\n",
       "      <td>20.599021</td>\n",
       "    </tr>\n",
       "    <tr>\n",
       "      <th>1</th>\n",
       "      <td>41.685500</td>\n",
       "      <td>2.230000</td>\n",
       "      <td>2.457152e+06</td>\n",
       "      <td>NaN</td>\n",
       "      <td>5766.00</td>\n",
       "      <td>0.928000</td>\n",
       "      <td>4.50000</td>\n",
       "      <td>53.651123</td>\n",
       "      <td>20.599021</td>\n",
       "    </tr>\n",
       "    <tr>\n",
       "      <th>2</th>\n",
       "      <td>41.685500</td>\n",
       "      <td>2.578070</td>\n",
       "      <td>NaN</td>\n",
       "      <td>0.049</td>\n",
       "      <td>5766.00</td>\n",
       "      <td>1.080000</td>\n",
       "      <td>4.50000</td>\n",
       "      <td>53.651123</td>\n",
       "      <td>20.599021</td>\n",
       "    </tr>\n",
       "    <tr>\n",
       "      <th>3</th>\n",
       "      <td>2.301830</td>\n",
       "      <td>1.120000</td>\n",
       "      <td>2.457583e+06</td>\n",
       "      <td>2.268</td>\n",
       "      <td>4616.52</td>\n",
       "      <td>0.762602</td>\n",
       "      <td>4.53679</td>\n",
       "      <td>183.846245</td>\n",
       "      <td>-6.268329</td>\n",
       "    </tr>\n",
       "    <tr>\n",
       "      <th>4</th>\n",
       "      <td>2.302368</td>\n",
       "      <td>1.312588</td>\n",
       "      <td>2.457583e+06</td>\n",
       "      <td>NaN</td>\n",
       "      <td>4720.00</td>\n",
       "      <td>0.710995</td>\n",
       "      <td>4.50000</td>\n",
       "      <td>183.846245</td>\n",
       "      <td>-6.268329</td>\n",
       "    </tr>\n",
       "  </tbody>\n",
       "</table>\n",
       "</div>"
      ],
      "text/plain": [
       "   pl_orbper   pl_rade    pl_tranmid  pl_trandep  st_teff    st_rad  st_logg  \\\n",
       "0  41.688644  2.355454  2.457069e+06         NaN  5703.00  0.956122  4.38000   \n",
       "1  41.685500  2.230000  2.457152e+06         NaN  5766.00  0.928000  4.50000   \n",
       "2  41.685500  2.578070           NaN       0.049  5766.00  1.080000  4.50000   \n",
       "3   2.301830  1.120000  2.457583e+06       2.268  4616.52  0.762602  4.53679   \n",
       "4   2.302368  1.312588  2.457583e+06         NaN  4720.00  0.710995  4.50000   \n",
       "\n",
       "           ra        dec  \n",
       "0   53.651123  20.599021  \n",
       "1   53.651123  20.599021  \n",
       "2   53.651123  20.599021  \n",
       "3  183.846245  -6.268329  \n",
       "4  183.846245  -6.268329  "
      ]
     },
     "execution_count": 43,
     "metadata": {},
     "output_type": "execute_result"
    }
   ],
   "source": [
    "df_transit_filtered_shared_columns_with_TESS.head()"
   ]
  },
  {
   "cell_type": "code",
   "execution_count": 59,
   "id": "913476f0",
   "metadata": {},
   "outputs": [
    {
     "name": "stdout",
     "output_type": "stream",
     "text": [
      "1880\n"
     ]
    }
   ],
   "source": [
    "print(df_transit_filtered_shared_columns_with_TESS[\"pl_trandep\"].isna().sum())"
   ]
  },
  {
   "cell_type": "code",
   "execution_count": 45,
   "id": "12f05ce2",
   "metadata": {},
   "outputs": [
    {
     "name": "stdout",
     "output_type": "stream",
     "text": [
      "Index([], dtype='object')\n"
     ]
    }
   ],
   "source": [
    "print(df_transit_filtered_shared_columns_with_TESS.columns[df_transit_filtered_shared_columns_with_TESS.isna().mean() > 0.50])"
   ]
  },
  {
   "cell_type": "code",
   "execution_count": 52,
   "id": "8a291ab0",
   "metadata": {},
   "outputs": [],
   "source": [
    "df_transit_filtered_shared_columns_with_TESS.to_csv(\"K2_filtered_Transit_Share_With_TESS_and_Documentation.csv\", index=False)"
   ]
  },
  {
   "cell_type": "code",
   "execution_count": 53,
   "id": "0672769e",
   "metadata": {},
   "outputs": [
    {
     "data": {
      "text/plain": [
       "(3979, 9)"
      ]
     },
     "execution_count": 53,
     "metadata": {},
     "output_type": "execute_result"
    }
   ],
   "source": [
    "df_transit_filtered_shared_columns_with_TESS.shape"
   ]
  },
  {
   "cell_type": "markdown",
   "id": "23667343",
   "metadata": {},
   "source": [
    "## Traitement des données"
   ]
  },
  {
   "cell_type": "code",
   "execution_count": 49,
   "id": "97240436",
   "metadata": {},
   "outputs": [],
   "source": [
    "from narwhals import col\n",
    "import pandas as pd\n",
    "\n",
    "def analyse_nan(df: pd.DataFrame, seuil: float = 20.0) -> pd.DataFrame:\n",
    "    \"\"\"\n",
    "    Analyse les valeurs manquantes d'un DataFrame et affiche celles dépassant un certain seuil.\n",
    "    \n",
    "    Paramètres\n",
    "    ----------\n",
    "    df : pd.DataFrame\n",
    "        Le DataFrame à analyser.\n",
    "    seuil : float, optionnel\n",
    "        Pourcentage minimal de NaN pour être affiché (par défaut 20%).\n",
    "\n",
    "    Retour\n",
    "    ------\n",
    "    pd.DataFrame\n",
    "        Tableau des colonnes avec le nombre et la proportion (%) de NaN.\n",
    "    \"\"\"\n",
    "    total_rows = len(df)\n",
    "    \n",
    "    nan_count = df.isna().sum()\n",
    "    nan_ratio = (nan_count / total_rows) * 100\n",
    "    \n",
    "    resultat = pd.DataFrame({\n",
    "        'NaN_count': nan_count,\n",
    "        'NaN_%': nan_ratio.round(2)\n",
    "    }).sort_values(by='NaN_%', ascending=False)\n",
    "    \n",
    "    print(f\"\\nNombre total de lignes : {total_rows}\")\n",
    "    print(f\"Seuil de détection : {seuil}%\\n\")\n",
    "    \n",
    "    colonnes_filtrees = resultat[resultat['NaN_%'] > seuil]\n",
    "    \n",
    "    if colonnes_filtrees.empty:\n",
    "        print(\"✅ Aucune colonne ne dépasse le seuil spécifié.\")\n",
    "    else:\n",
    "        print(\"⚠️ Colonnes avec trop de valeurs manquantes :\\n\")\n",
    "        print(len(resultat) - len(colonnes_filtrees))\n",
    "    \n",
    "    return resultat, colonnes_filtrees\n"
   ]
  },
  {
   "cell_type": "code",
   "execution_count": 51,
   "id": "6527b8f2",
   "metadata": {},
   "outputs": [
    {
     "name": "stdout",
     "output_type": "stream",
     "text": [
      "\n",
      "Nombre total de lignes : 3979\n",
      "Seuil de détection : 10%\n",
      "\n",
      "⚠️ Colonnes avec trop de valeurs manquantes :\n",
      "\n",
      "5\n"
     ]
    },
    {
     "data": {
      "text/plain": [
       "(            NaN_count  NaN_%\n",
       " pl_trandep       1880  47.25\n",
       " st_logg          1638  41.17\n",
       " st_teff          1109  27.87\n",
       " pl_rade           807  20.28\n",
       " st_rad            128   3.22\n",
       " pl_tranmid         55   1.38\n",
       " pl_orbper          44   1.11\n",
       " ra                  0   0.00\n",
       " dec                 0   0.00,\n",
       "             NaN_count  NaN_%\n",
       " pl_trandep       1880  47.25\n",
       " st_logg          1638  41.17\n",
       " st_teff          1109  27.87\n",
       " pl_rade           807  20.28)"
      ]
     },
     "execution_count": 51,
     "metadata": {},
     "output_type": "execute_result"
    }
   ],
   "source": [
    "analyse_nan(df_transit_filtered_shared_columns_with_TESS, 10)"
   ]
  },
  {
   "cell_type": "code",
   "execution_count": 36,
   "id": "1e6099dd",
   "metadata": {},
   "outputs": [
    {
     "name": "stdout",
     "output_type": "stream",
     "text": [
      "🧩 Nombre de colonnes texte : 17\n",
      "\n",
      "Colonnes de type texte détectées :\n",
      " - kepoi_name\n",
      " - kepler_name\n",
      " - koi_disposition\n",
      " - koi_vet_stat\n",
      " - koi_vet_date\n",
      " - koi_pdisposition\n",
      " - koi_disp_prov\n",
      " - koi_comment\n",
      " - koi_fittype\n",
      " - koi_limbdark_mod\n",
      " - koi_parm_prov\n",
      " - koi_tce_delivname\n",
      " - koi_quarters\n",
      " - koi_trans_mod\n",
      " - koi_datalink_dvr\n",
      " - koi_datalink_dvs\n",
      " - koi_sparprov\n"
     ]
    },
    {
     "data": {
      "text/plain": [
       "['kepoi_name',\n",
       " 'kepler_name',\n",
       " 'koi_disposition',\n",
       " 'koi_vet_stat',\n",
       " 'koi_vet_date',\n",
       " 'koi_pdisposition',\n",
       " 'koi_disp_prov',\n",
       " 'koi_comment',\n",
       " 'koi_fittype',\n",
       " 'koi_limbdark_mod',\n",
       " 'koi_parm_prov',\n",
       " 'koi_tce_delivname',\n",
       " 'koi_quarters',\n",
       " 'koi_trans_mod',\n",
       " 'koi_datalink_dvr',\n",
       " 'koi_datalink_dvs',\n",
       " 'koi_sparprov']"
      ]
     },
     "execution_count": 36,
     "metadata": {},
     "output_type": "execute_result"
    }
   ],
   "source": [
    "\n",
    "cols_str = df.select_dtypes(include=['object', 'string']).columns.tolist()\n",
    "\n",
    "print(f\"🧩 Nombre de colonnes texte : {len(cols_str)}\\n\")\n",
    "\n",
    "if cols_str:\n",
    "    print(\"Colonnes de type texte détectées :\")\n",
    "    for col in cols_str:\n",
    "        print(f\" - {col}\")\n",
    "else:\n",
    "    print(\"✅ Aucune colonne texte détectée.\")\n",
    "\n",
    "cols_str"
   ]
  },
  {
   "cell_type": "code",
   "execution_count": null,
   "id": "8537dc35",
   "metadata": {},
   "outputs": [],
   "source": []
  }
 ],
 "metadata": {
  "kernelspec": {
   "display_name": ".venv",
   "language": "python",
   "name": "python3"
  },
  "language_info": {
   "codemirror_mode": {
    "name": "ipython",
    "version": 3
   },
   "file_extension": ".py",
   "mimetype": "text/x-python",
   "name": "python",
   "nbconvert_exporter": "python",
   "pygments_lexer": "ipython3",
   "version": "3.10.11"
  }
 },
 "nbformat": 4,
 "nbformat_minor": 5
}
