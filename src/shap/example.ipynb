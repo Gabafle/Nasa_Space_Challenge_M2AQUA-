{
 "cells": [
  {
   "cell_type": "code",
   "execution_count": 3,
   "id": "edbcf043",
   "metadata": {},
   "outputs": [
    {
     "name": "stdout",
     "output_type": "stream",
     "text": [
      "Input shape = (10,5)\n",
      "Explanation shape = (10, 20, 3)\n",
      "Explanation shape = (10, 20, 3)\n",
      "Explanation shape = (10, 20, 3)\n"
     ]
    }
   ],
   "source": [
    "from _shapley import ShapelyExplainer, ModelKind\n",
    "\n",
    "import numpy as np\n",
    "from xgboost import XGBClassifier\n",
    "from sklearn.datasets import make_classification\n",
    "from sklearn.ensemble import RandomForestClassifier\n",
    "from sklearn.linear_model import LogisticRegression\n",
    "\n",
    "# --- 1. Create sample data ---\n",
    "# n_features = number of input variables\n",
    "# n_targets  = number of output variables\n",
    "X, y = make_classification(\n",
    "    n_samples=200,\n",
    "    n_classes=3,     # n = 5 input variables\n",
    "    n_informative=3,\n",
    "    random_state=42\n",
    ")\n",
    "\n",
    "# --- 2. Train a model ---\n",
    "model1 = RandomForestClassifier(n_estimators=50, random_state=0)\n",
    "model1.fit(X, y)\n",
    "\n",
    "model2 = XGBClassifier(n_estimators=50, random_state=0)\n",
    "model2.fit(X, y)\n",
    "\n",
    "model3 = LogisticRegression()\n",
    "model3.fit(X, y)\n",
    "\n",
    "expl1 = ShapelyExplainer(model1, ModelKind.SklearnTree)\n",
    "expl2 = ShapelyExplainer(model2, ModelKind.XGBoostTree)\n",
    "\n",
    "# For linear, special case, we need a random sample of the training data to compute the values\n",
    "randm_sampl = np.random.choice(X.shape[0], size=100, replace=False)\n",
    "bg_data = X[randm_sampl,...]\n",
    "expl3 = ShapelyExplainer(model3, ModelKind.SklearnLinear, background_data=bg_data)\n",
    "\n",
    "print(f\"Input shape = (10,5)\")\n",
    "print(f\"Explanation shape = {expl1.explain_prediction(X[0:10,:]).shape}\")\n",
    "print(f\"Explanation shape = {expl2.explain_prediction(X[0:10,:]).shape}\")\n",
    "print(f\"Explanation shape = {expl3.explain_prediction(X[0:10,:]).shape}\")"
   ]
  }
 ],
 "metadata": {
  "kernelspec": {
   "display_name": "ML",
   "language": "python",
   "name": "python3"
  },
  "language_info": {
   "codemirror_mode": {
    "name": "ipython",
    "version": 3
   },
   "file_extension": ".py",
   "mimetype": "text/x-python",
   "name": "python",
   "nbconvert_exporter": "python",
   "pygments_lexer": "ipython3",
   "version": "3.13.7"
  }
 },
 "nbformat": 4,
 "nbformat_minor": 5
}
